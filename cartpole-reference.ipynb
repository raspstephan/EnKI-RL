{
 "cells": [
  {
   "cell_type": "markdown",
   "metadata": {},
   "source": [
    "# Reference RL algorithm for cartpole environment"
   ]
  },
  {
   "cell_type": "code",
   "execution_count": 1,
   "metadata": {},
   "outputs": [],
   "source": [
    "import gym\n",
    "import numpy as np\n",
    "import matplotlib.pyplot as plt\n",
    "import time\n",
    "import pandas as pd\n",
    "%matplotlib inline"
   ]
  },
  {
   "cell_type": "markdown",
   "metadata": {},
   "source": [
    "## Cartpole environment"
   ]
  },
  {
   "cell_type": "code",
   "execution_count": 2,
   "metadata": {},
   "outputs": [],
   "source": [
    "env = gym.make('CartPole-v0')"
   ]
  },
  {
   "cell_type": "code",
   "execution_count": 3,
   "metadata": {},
   "outputs": [
    {
     "data": {
      "text/plain": [
       "(Box(4,), Discrete(2))"
      ]
     },
     "execution_count": 3,
     "metadata": {},
     "output_type": "execute_result"
    }
   ],
   "source": [
    "env.observation_space, env.action_space"
   ]
  },
  {
   "cell_type": "code",
   "execution_count": 4,
   "metadata": {},
   "outputs": [],
   "source": [
    "obs = env.reset()"
   ]
  },
  {
   "cell_type": "code",
   "execution_count": 87,
   "metadata": {},
   "outputs": [],
   "source": [
    "# Test out the environment with a random policy\n",
    "done = False\n",
    "while not done:\n",
    "    action = np.random.choice([0, 1])\n",
    "    obs, reward, done, _ = env.step(action)\n",
    "    env.render()\n",
    "    time.sleep(0.02)\n",
    "env.close(); env.reset();"
   ]
  },
  {
   "cell_type": "markdown",
   "metadata": {},
   "source": [
    "## Train a reference RL algorithm: DQN\n",
    "\n",
    "Let's use stable-baselines for this."
   ]
  },
  {
   "cell_type": "code",
   "execution_count": 14,
   "metadata": {},
   "outputs": [],
   "source": [
    "from stable_baselines import DQN, ACKTR, ACER\n",
    "from stable_baselines.bench import Monitor\n",
    "from stable_baselines.common.vec_env import DummyVecEnv, SubprocVecEnv"
   ]
  },
  {
   "cell_type": "code",
   "execution_count": 31,
   "metadata": {},
   "outputs": [],
   "source": [
    "n_cpu = 2\n",
    "env = SubprocVecEnv([\n",
    "    lambda: Monitor(gym.make('CartPole-v1'), 'acer', allow_early_resets=True)\n",
    "    for i in range(n_cpu)])"
   ]
  },
  {
   "cell_type": "code",
   "execution_count": 32,
   "metadata": {},
   "outputs": [],
   "source": [
    "model = ACKTR('MlpPolicy', env, verbose=1)"
   ]
  },
  {
   "cell_type": "code",
   "execution_count": 33,
   "metadata": {
    "scrolled": true
   },
   "outputs": [
    {
     "name": "stdout",
     "output_type": "stream",
     "text": [
      "---------------------------------\n",
      "| ep_len_mean        | 15       |\n",
      "| ep_reward_mean     | 15       |\n",
      "| explained_variance | 0.00182  |\n",
      "| fps                | 14       |\n",
      "| nupdates           | 1        |\n",
      "| policy_entropy     | 0.693    |\n",
      "| policy_loss        | 5.67     |\n",
      "| total_timesteps    | 0        |\n",
      "| value_loss         | 91.7     |\n",
      "---------------------------------\n",
      "---------------------------------\n",
      "| ep_len_mean        | 69.8     |\n",
      "| ep_reward_mean     | 69.8     |\n",
      "| explained_variance | 0.0218   |\n",
      "| fps                | 505      |\n",
      "| nupdates           | 100      |\n",
      "| policy_entropy     | 0.591    |\n",
      "| policy_loss        | 4.41     |\n",
      "| total_timesteps    | 4059     |\n",
      "| value_loss         | 65.9     |\n",
      "---------------------------------\n",
      "---------------------------------\n",
      "| ep_len_mean        | 119      |\n",
      "| ep_reward_mean     | 119      |\n",
      "| explained_variance | 0.00171  |\n",
      "| fps                | 586      |\n",
      "| nupdates           | 200      |\n",
      "| policy_entropy     | 0.484    |\n",
      "| policy_loss        | 4.4      |\n",
      "| total_timesteps    | 8159     |\n",
      "| value_loss         | 52.7     |\n",
      "---------------------------------\n",
      "---------------------------------\n",
      "| ep_len_mean        | 140      |\n",
      "| ep_reward_mean     | 140      |\n",
      "| explained_variance | -0.00121 |\n",
      "| fps                | 610      |\n",
      "| nupdates           | 300      |\n",
      "| policy_entropy     | 0.561    |\n",
      "| policy_loss        | 3.31     |\n",
      "| total_timesteps    | 12259    |\n",
      "| value_loss         | 48.5     |\n",
      "---------------------------------\n",
      "----------------------------------\n",
      "| ep_len_mean        | 155       |\n",
      "| ep_reward_mean     | 155       |\n",
      "| explained_variance | -3.54e-05 |\n",
      "| fps                | 628       |\n",
      "| nupdates           | 400       |\n",
      "| policy_entropy     | 0.517     |\n",
      "| policy_loss        | 3.14      |\n",
      "| total_timesteps    | 16359     |\n",
      "| value_loss         | 46.2      |\n",
      "----------------------------------\n",
      "----------------------------------\n",
      "| ep_len_mean        | 190       |\n",
      "| ep_reward_mean     | 190       |\n",
      "| explained_variance | -0.000451 |\n",
      "| fps                | 618       |\n",
      "| nupdates           | 500       |\n",
      "| policy_entropy     | 0.417     |\n",
      "| policy_loss        | -5.49     |\n",
      "| total_timesteps    | 20459     |\n",
      "| value_loss         | 476       |\n",
      "----------------------------------\n",
      "----------------------------------\n",
      "| ep_len_mean        | 204       |\n",
      "| ep_reward_mean     | 204       |\n",
      "| explained_variance | -0.000231 |\n",
      "| fps                | 616       |\n",
      "| nupdates           | 600       |\n",
      "| policy_entropy     | 0.463     |\n",
      "| policy_loss        | 2.38      |\n",
      "| total_timesteps    | 24559     |\n",
      "| value_loss         | 44.1      |\n",
      "----------------------------------\n"
     ]
    },
    {
     "data": {
      "text/plain": [
       "<stable_baselines.acktr.acktr_disc.ACKTR at 0x1c47fce9e8>"
      ]
     },
     "execution_count": 33,
     "metadata": {},
     "output_type": "execute_result"
    }
   ],
   "source": [
    "model.learn(total_timesteps=25000)"
   ]
  },
  {
   "cell_type": "code",
   "execution_count": 34,
   "metadata": {},
   "outputs": [],
   "source": [
    "log = pd.read_csv('acer.monitor.csv', index_col=False,\n",
    "                  skiprows=1)"
   ]
  },
  {
   "cell_type": "code",
   "execution_count": 35,
   "metadata": {},
   "outputs": [
    {
     "data": {
      "text/plain": [
       "<matplotlib.axes._subplots.AxesSubplot at 0x1c484665c0>"
      ]
     },
     "execution_count": 35,
     "metadata": {},
     "output_type": "execute_result"
    },
    {
     "data": {
      "image/png": "[encoded data removed]",
      "text/plain": [
       "<Figure size 432x288 with 1 Axes>"
      ]
     },
     "metadata": {
      "needs_background": "light"
     },
     "output_type": "display_data"
    }
   ],
   "source": [
    "# Plot learning\n",
    "log.l.plot()"
   ]
  },
  {
   "cell_type": "code",
   "execution_count": 36,
   "metadata": {},
   "outputs": [
    {
     "ename": "ValueError",
     "evalue": "The truth value of an array with more than one element is ambiguous. Use a.any() or a.all()",
     "output_type": "error",
     "traceback": [
      "\u001b[0;31m---------------------------------------------------------------------------\u001b[0m",
      "\u001b[0;31mValueError\u001b[0m                                Traceback (most recent call last)",
      "\u001b[0;32m<ipython-input-36-c4cd46b7583c>\u001b[0m in \u001b[0;36m<module>\u001b[0;34m\u001b[0m\n\u001b[1;32m      2\u001b[0m \u001b[0mobs\u001b[0m \u001b[0;34m=\u001b[0m \u001b[0menv\u001b[0m\u001b[0;34m.\u001b[0m\u001b[0mreset\u001b[0m\u001b[0;34m(\u001b[0m\u001b[0;34m)\u001b[0m\u001b[0;34m\u001b[0m\u001b[0;34m\u001b[0m\u001b[0m\n\u001b[1;32m      3\u001b[0m \u001b[0mdone\u001b[0m \u001b[0;34m=\u001b[0m \u001b[0;32mFalse\u001b[0m\u001b[0;34m\u001b[0m\u001b[0;34m\u001b[0m\u001b[0m\n\u001b[0;32m----> 4\u001b[0;31m \u001b[0;32mwhile\u001b[0m \u001b[0;32mnot\u001b[0m \u001b[0mdone\u001b[0m\u001b[0;34m:\u001b[0m\u001b[0;34m\u001b[0m\u001b[0;34m\u001b[0m\u001b[0m\n\u001b[0m\u001b[1;32m      5\u001b[0m     \u001b[0maction\u001b[0m\u001b[0;34m,\u001b[0m \u001b[0m_\u001b[0m \u001b[0;34m=\u001b[0m \u001b[0mmodel\u001b[0m\u001b[0;34m.\u001b[0m\u001b[0mpredict\u001b[0m\u001b[0;34m(\u001b[0m\u001b[0mobs\u001b[0m\u001b[0;34m)\u001b[0m\u001b[0;34m\u001b[0m\u001b[0;34m\u001b[0m\u001b[0m\n\u001b[1;32m      6\u001b[0m     \u001b[0mobs\u001b[0m\u001b[0;34m,\u001b[0m \u001b[0mreward\u001b[0m\u001b[0;34m,\u001b[0m \u001b[0mdone\u001b[0m\u001b[0;34m,\u001b[0m \u001b[0m_\u001b[0m \u001b[0;34m=\u001b[0m \u001b[0menv\u001b[0m\u001b[0;34m.\u001b[0m\u001b[0mstep\u001b[0m\u001b[0;34m(\u001b[0m\u001b[0maction\u001b[0m\u001b[0;34m)\u001b[0m\u001b[0;34m\u001b[0m\u001b[0;34m\u001b[0m\u001b[0m\n",
      "\u001b[0;31mValueError\u001b[0m: The truth value of an array with more than one element is ambiguous. Use a.any() or a.all()"
     ]
    }
   ],
   "source": [
    "# Test how well the model does\n",
    "obs = env.reset()\n",
    "done = False\n",
    "while not done:\n",
    "    action, _ = model.predict(obs)\n",
    "    obs, reward, done, _ = env.step(action)\n",
    "    env.render()\n",
    "    time.sleep(0.02)\n",
    "env.close(); env.reset(); \n"
   ]
  },
  {
   "cell_type": "code",
   "execution_count": 103,
   "metadata": {},
   "outputs": [],
   "source": [
    "env.close()"
   ]
  },
  {
   "cell_type": "code",
   "execution_count": null,
   "metadata": {},
   "outputs": [],
   "source": []
  }
 ],
 "metadata": {
  "kernelspec": {
   "display_name": "Python 3",
   "language": "python",
   "name": "python3"
  },
  "language_info": {
   "codemirror_mode": {
    "name": "ipython",
    "version": 3
   },
   "file_extension": ".py",
   "mimetype": "text/x-python",
   "name": "python",
   "nbconvert_exporter": "python",
   "pygments_lexer": "ipython3",
   "version": "3.7.3"
  },
  "toc": {
   "base_numbering": 1,
   "nav_menu": {},
   "number_sections": true,
   "sideBar": false,
   "skip_h1_title": true,
   "title_cell": "Table of Contents",
   "title_sidebar": "Contents",
   "toc_cell": false,
   "toc_position": {},
   "toc_section_display": true,
   "toc_window_display": false
  }
 },
 "nbformat": 4,
 "nbformat_minor": 2
}
